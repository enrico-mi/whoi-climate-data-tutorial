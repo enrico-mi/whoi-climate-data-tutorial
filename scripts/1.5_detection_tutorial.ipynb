{
 "cells": [
  {
   "cell_type": "markdown",
   "id": "2670c3a9-2dea-4429-a138-5ca395f572b7",
   "metadata": {},
   "source": [
    "## Check if we're running in Google Colab\n",
    "If you are running in Google Colab, you may have to run the cell below twice because the kernel crashes; I'm not sure why this happens."
   ]
  },
  {
   "cell_type": "code",
   "execution_count": null,
   "id": "eb1c30d7-5433-473c-85a8-08723babd4b6",
   "metadata": {},
   "outputs": [],
   "source": [
    "## check if we're in Colab\n",
    "try:\n",
    "    import google.colab\n",
    "\n",
    "    ## install package that allows us to use mamba in Colab\n",
    "    !pip install -q condacolab\n",
    "    import condacolab\n",
    "\n",
    "    condacolab.install()\n",
    "\n",
    "    ## install extra packages to colab environment\n",
    "    !mamba install -c conda-forge python=3.10.13 cmocean xesmf cartopy cftime cartopy\n",
    "\n",
    "    ## connect to Google Drive (will prompt you to ask for permissions)\n",
    "    from google.colab import drive\n",
    "\n",
    "    drive.mount(\"/content/drive\")\n",
    "\n",
    "    ## flag telling us the notebook is running in Colab\n",
    "    IN_COLAB = True\n",
    "\n",
    "except:\n",
    "    IN_COLAB = False"
   ]
  },
  {
   "cell_type": "markdown",
   "id": "b6811316-50a2-4826-9e74-85b8e5fd9c56",
   "metadata": {},
   "source": [
    "## Filepaths\n",
    "__To run this notebook, you'll need to update the filepaths below__, which specify the location of the data (otherwise, you'll get a ```FileNotFoundError``` message when you try to open the data). These filepaths will differ for Mac vs. Windows users and depend on how you've accessed the data (e.g., mounting the WHOI file server or downloading the data)."
   ]
  },
  {
   "cell_type": "code",
   "execution_count": null,
   "id": "a8da4789-2d3a-41d4-ae5f-67fca703c5d7",
   "metadata": {},
   "outputs": [],
   "source": [
    "if IN_COLAB:\n",
    "\n",
    "    ## filepaths for historical/PI-control data\n",
    "    hist_path = \"/content/drive/My Drive/climate-data\"\n",
    "    pico_path = \"/content/drive/My Drive/climate-data\"\n",
    "\n",
    "else:\n",
    "\n",
    "    hist_path = (\n",
    "        \"/Volumes/cmip6/data/cmip6/CMIP/NCAR/CESM2/historical/r1i1p1f1/Amon/tas/gn/1\"\n",
    "    )\n",
    "    \n",
    "    pico_path = (\n",
    "        \"/Volumes/cmip6/data/cmip6/CMIP/NCAR/CESM2/piControl/r1i1p1f1/Amon/tas/gn/1\"\n",
    "    )"
   ]
  },
  {
   "cell_type": "markdown",
   "id": "fd07d469-be2a-4a12-865f-556cad367901",
   "metadata": {},
   "source": [
    "## Imports"
   ]
  },
  {
   "cell_type": "code",
   "execution_count": null,
   "id": "42de5f8d-b9a3-4a26-a062-b2b1127e0d53",
   "metadata": {},
   "outputs": [],
   "source": [
    "import xarray as xr\n",
    "import numpy as np\n",
    "import os\n",
    "import time\n",
    "import tqdm\n",
    "import glob\n",
    "import matplotlib.pyplot as plt\n",
    "import seaborn as sns\n",
    "import pandas as pd\n",
    "\n",
    "## set default plot style\n",
    "sns.set(rc={\"axes.facecolor\": \"white\", \"axes.grid\": False})\n",
    "\n",
    "## initialize random number generator\n",
    "rng = np.random.default_rng()"
   ]
  },
  {
   "cell_type": "markdown",
   "id": "12c90f62-10f1-4a2a-a5dd-6c808fb52873",
   "metadata": {},
   "source": [
    "## Open the data"
   ]
  },
  {
   "cell_type": "markdown",
   "id": "d7ce9b4a-62e8-48e6-9cf0-76b5febb1f37",
   "metadata": {},
   "source": [
    "Note: we're going to set ```mask_and_scale=False``` to avoid serialization warning."
   ]
  },
  {
   "cell_type": "code",
   "execution_count": null,
   "id": "cbc0cb78-97c3-4c7d-add5-3341ff91c2fa",
   "metadata": {},
   "outputs": [],
   "source": [
    "T2m_hist = xr.open_mfdataset(os.path.join(hist_path, \"*.nc\"), mask_and_scale=False)[\"tas\"]\n",
    "# T2m_pico = xr.open_mfdataset(os.path.join(pico_path, \"*.nc\"), mask_and_scale=False)[\"tas\"]"
   ]
  },
  {
   "cell_type": "markdown",
   "id": "8b88eb41-4781-448d-bf22-fa93b76fb35e",
   "metadata": {},
   "source": [
    "## define \"climate index\" function"
   ]
  },
  {
   "cell_type": "markdown",
   "id": "5dfad0be-0c5e-45ef-8659-3d5a6d42c359",
   "metadata": {},
   "source": [
    "First, a function to compute the index"
   ]
  },
  {
   "cell_type": "code",
   "execution_count": null,
   "id": "def82d6b-939c-4369-b765-f4e2176186c5",
   "metadata": {},
   "outputs": [],
   "source": [
    "def WH_index(T2m):\n",
    "    \"\"\"function to compute 'Woods Hole climate index'\"\"\"\n",
    "\n",
    "    ## first, interpolate close to Woods Hole\n",
    "    # T2m_WH = T2m.interp(lat=41.5, lon=288.5, method=\"nearest\")\n",
    "    T2m_WH = T2m.isel(lat=140, lon=231)\n",
    "\n",
    "    ## Get annual average\n",
    "    T2m_WH = T2m_WH.groupby(\"time.year\").mean()\n",
    "    \n",
    "    return T2m_WH\n",
    "\n",
    "def WH_index_from_file(T2m_filepath):\n",
    "    \"\"\"function computes WH index given single filepath\"\"\"\n",
    "    \n",
    "    ## Load data at given filepath\n",
    "    T2m = xr.open_dataset(T2m_filepath, mask_and_scale=False)[\"tas\"]\n",
    "\n",
    "    ## Compute the index\n",
    "    T2m_WH = WH_index(T2m)\n",
    "\n",
    "    ## Close the original dataset\n",
    "    T2m.close()\n",
    "\n",
    "    return T2m_WH"
   ]
  },
  {
   "cell_type": "markdown",
   "id": "bc224e17-2c89-44c4-b741-4d5e352e2480",
   "metadata": {},
   "source": [
    "#### Loop through files"
   ]
  },
  {
   "cell_type": "code",
   "execution_count": null,
   "id": "4fc8d9df-f21b-4542-a1b4-0f6d1b87ada2",
   "metadata": {},
   "outputs": [],
   "source": [
    "T2m_pico_files = glob.glob(os.path.join(pico_path, \"*.nc\"))\n",
    "\n",
    "## Empty list to hold result\n",
    "T2m_pico = []\n",
    "\n",
    "## loop through files\n",
    "for file in tqdm.tqdm(T2m_pico_files):\n",
    "    T2m_pico.append(WH_index_from_file(file))\n",
    "\n",
    "## Put in dataset format\n",
    "T2m_pico = xr.concat(T2m_pico, dim=\"year\")"
   ]
  },
  {
   "cell_type": "markdown",
   "id": "183a9d2a-5db7-47ea-98a1-e408a77fbbcb",
   "metadata": {},
   "source": [
    "#### Compute WH index for historical data"
   ]
  },
  {
   "cell_type": "code",
   "execution_count": null,
   "id": "03ae9d58-d39b-4a7e-af6f-3c2adc855cbd",
   "metadata": {},
   "outputs": [],
   "source": [
    "T2m_hist = WH_index(T2m_hist).compute()"
   ]
  },
  {
   "cell_type": "code",
   "execution_count": null,
   "id": "5deffdbf-7a71-46ee-a812-8bd8e50891bc",
   "metadata": {},
   "outputs": [],
   "source": [
    "T2m_pico.year"
   ]
  },
  {
   "cell_type": "code",
   "execution_count": null,
   "id": "4a98ca59-32a0-45b6-a537-4bcc5613b7f9",
   "metadata": {},
   "outputs": [],
   "source": [
    "T2m_hist.year[0]"
   ]
  },
  {
   "cell_type": "code",
   "execution_count": null,
   "id": "65465700-7f5f-4fe0-aa86-ba53a215d490",
   "metadata": {},
   "outputs": [],
   "source": [
    "plt.plot(T2m_pico.year+650, T2m_pico)\n",
    "plt.plot(T2m_hist.year, T2m_hist)"
   ]
  },
  {
   "cell_type": "markdown",
   "id": "a9070b5f-13a8-43b1-b688-0fbf4e2c2cde",
   "metadata": {},
   "source": [
    "#### Generate histogram from data"
   ]
  },
  {
   "cell_type": "code",
   "execution_count": null,
   "id": "017e6dcb-3d46-4462-a543-9edf66fe225a",
   "metadata": {},
   "outputs": [],
   "source": [
    "def get_random_sample_mean(data, nyears):\n",
    "    \"\"\"function draws a random sample from given dataset,\n",
    "    and averages over period\"\"\"\n",
    "\n",
    "    ## get random start year for random sample\n",
    "    max_idx = len(data.year) - nyears\n",
    "    idx_start = rng.choice(np.arange(0, max_idx))\n",
    "\n",
    "    ## get random sample\n",
    "    sample = data.isel(year=slice(idx_start, idx_start + nyears))\n",
    "\n",
    "    ## get sample mean\n",
    "    sample_mean = sample.mean(\"year\")\n",
    "    \n",
    "    return sample_mean\n",
    "\n",
    "\n",
    "def get_random_sample_means(data, nsamples, nyears=30):\n",
    "    \"\"\"get multiple random samples\"\"\"\n",
    "\n",
    "    ## get random sample means\n",
    "    sample_means = [get_random_sample_mean(data, nyears) for _ in tqdm.tqdm(np.arange(nsamples))]\n",
    "\n",
    "    ## Put in xr.DataArray.\n",
    "    sample_dim = pd.Index(np.arange(nsamples), name=\"sample\")\n",
    "    sample_means = xr.concat(sample_means, dim=sample_dim)\n",
    "    return sample_means\n",
    "\n",
    "\n",
    "## get random samples\n",
    "sample_means = get_random_sample_means(data=T2m_pico, nsamples=3000, nyears=30)"
   ]
  },
  {
   "cell_type": "markdown",
   "id": "33a8356a-4a08-4cbd-a60b-8162875cc190",
   "metadata": {},
   "source": [
    "#### Make histogram"
   ]
  },
  {
   "cell_type": "code",
   "execution_count": null,
   "id": "38c9aa93-7f49-477f-987a-2e27fe3273ef",
   "metadata": {},
   "outputs": [],
   "source": [
    "bin_width = 1/12\n",
    "bin_edges = np.arange(284+1/2, 286, bin_width)\n",
    "# bin_width = 1/12\n",
    "# bin_edges = np.arange(271+1/12, 272+5/12, bin_width)\n",
    "bin_centers = 1/2 * (bin_edges[:-1] + bin_edges[1:])"
   ]
  },
  {
   "cell_type": "code",
   "execution_count": null,
   "id": "8d4dcd3f-ae6d-4d31-8bc6-ab2d7177af00",
   "metadata": {},
   "outputs": [],
   "source": [
    "histogram_pico, _ = np.histogram(sample_means, bins=bin_edges)"
   ]
  },
  {
   "cell_type": "code",
   "execution_count": null,
   "id": "d590898b-4fb9-4701-9b72-b25ef8bdbaa3",
   "metadata": {},
   "outputs": [],
   "source": [
    "fig,ax = plt.subplots(figsize=(4,3))\n",
    "ax.stairs(values=histogram_pico, edges=bin_edges, color=\"k\")\n",
    "ax.axvline(sample_means.mean(), c=\"k\", ls=\"--\")\n",
    "ax.axvline(T2m_hist.isel(year=slice(-30,None)).mean(\"year\"), c=\"r\", ls=\"--\")"
   ]
  },
  {
   "cell_type": "markdown",
   "id": "14ea8a08-0b72-4333-a42c-a88cd02aa8e8",
   "metadata": {},
   "source": [
    "# old stuff"
   ]
  },
  {
   "cell_type": "code",
   "execution_count": null,
   "id": "3a069a79-3d02-4a92-a434-847dab5ef526",
   "metadata": {},
   "outputs": [],
   "source": [
    "start = time.time()\n",
    "T2m_pico.isel(lat=40, lon=50).load()\n",
    "end = time.time()\n",
    "print(f\"{end-start:.2f} seconds\")"
   ]
  },
  {
   "cell_type": "code",
   "execution_count": null,
   "id": "2f70b3c1-9f6c-4e2d-92d3-dea8008d8c3e",
   "metadata": {},
   "outputs": [],
   "source": [
    "start = time.time()\n",
    "\n",
    "T2m_hist = xr.open_mfdataset(\n",
    "    os.path.join(hist_path, \"*.nc\"), \n",
    "    mask_and_scale=False,\n",
    ")[\"tas\"]\n",
    "\n",
    "T2m_hist = T2m_hist.chunk({\"time\":15000, \"lon\":64,\"lat\":64})\n",
    "T2m_hist_annual = T2m_hist.groupby(\"time.year\").mean().compute()\n",
    "\n",
    "end = time.time()\n",
    "print(f\"{end - start:.2f} seconds\")"
   ]
  },
  {
   "cell_type": "code",
   "execution_count": null,
   "id": "e63d4884-0732-430f-b617-0a59420e0d11",
   "metadata": {},
   "outputs": [],
   "source": [
    "start = time.time()\n",
    "\n",
    "T2m_pico = xr.open_mfdataset(\n",
    "    os.path.join(pico_path, \"*.nc\"), \n",
    "    mask_and_scale=False,\n",
    ")[\"tas\"]\n",
    "\n",
    "# T2m_pico = T2m_pico.chunk({\"time\":15000, \"lon\":64,\"lat\":64})\n",
    "# T2m_pico_annual = T2m_pico.groupby(\"time.year\").mean().compute()\n",
    "\n",
    "# end = time.time()\n",
    "# print(f\"{end - start:.2f} seconds\")"
   ]
  },
  {
   "cell_type": "markdown",
   "id": "349c5983-222e-4eec-a4de-a9c0b639dce8",
   "metadata": {},
   "source": [
    "#### Other attempts"
   ]
  },
  {
   "cell_type": "code",
   "execution_count": null,
   "id": "711e2529-8fe1-451a-8aca-30dc39092130",
   "metadata": {},
   "outputs": [],
   "source": [
    "start = time.time()\n",
    "T2m_pico = xr.open_mfdataset(\n",
    "    os.path.join(pico_path, \"*.nc\"), \n",
    "    mask_and_scale=False,\n",
    "    preprocess=WH_climate_index)[\"tas\"]\n",
    "end = time.time()\n",
    "print(f\"{end-start:.2f} seconds\")"
   ]
  },
  {
   "cell_type": "code",
   "execution_count": null,
   "id": "a25fd999-b8c1-4148-a96f-95a35c278f5f",
   "metadata": {},
   "outputs": [],
   "source": [
    "start = time.time()\n",
    "T2m_pico.load()\n",
    "end = time.time()\n",
    "print(f\"{end-start:.2f} seconds\")"
   ]
  },
  {
   "cell_type": "markdown",
   "id": "c06f2fe3-0d9b-4d82-a1be-c46caae39dda",
   "metadata": {},
   "source": [
    "Do the computation"
   ]
  },
  {
   "cell_type": "code",
   "execution_count": null,
   "id": "5d267172-e8d7-4b10-8937-29d92307b6ea",
   "metadata": {},
   "outputs": [],
   "source": [
    "T2m_WH_hist = WH_climate_index(T2m_hist).compute()\n",
    "T2m_WH_pico = WH_climate_index(T2m_pico).compute()"
   ]
  },
  {
   "cell_type": "code",
   "execution_count": null,
   "id": "9f410d5a-41a6-4aa4-8671-9d974de4e1b8",
   "metadata": {},
   "outputs": [],
   "source": [
    "T2m_WH_pico"
   ]
  }
 ],
 "metadata": {
  "kernelspec": {
   "display_name": "Python 3 (ipykernel)",
   "language": "python",
   "name": "python3"
  },
  "language_info": {
   "codemirror_mode": {
    "name": "ipython",
    "version": 3
   },
   "file_extension": ".py",
   "mimetype": "text/x-python",
   "name": "python",
   "nbconvert_exporter": "python",
   "pygments_lexer": "ipython3",
   "version": "3.12.3"
  }
 },
 "nbformat": 4,
 "nbformat_minor": 5
}
