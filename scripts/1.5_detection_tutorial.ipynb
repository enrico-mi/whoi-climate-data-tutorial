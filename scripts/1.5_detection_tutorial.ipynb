{
 "cells": [
  {
   "cell_type": "markdown",
   "id": "2670c3a9-2dea-4429-a138-5ca395f572b7",
   "metadata": {},
   "source": [
    "## Check if we're running in Google Colab\n",
    "If you are running in Google Colab, you may have to run the cell below twice because the kernel crashes; I'm not sure why this happens."
   ]
  },
  {
   "cell_type": "code",
   "execution_count": null,
   "id": "eb1c30d7-5433-473c-85a8-08723babd4b6",
   "metadata": {},
   "outputs": [],
   "source": [
    "## check if we're in Colab\n",
    "try:\n",
    "    import google.colab\n",
    "\n",
    "    ## install package that allows us to use mamba in Colab\n",
    "    !pip install -q condacolab\n",
    "    import condacolab\n",
    "\n",
    "    condacolab.install()\n",
    "\n",
    "    ## install extra packages to colab environment\n",
    "    !mamba install -c conda-forge python=3.10.13 cmocean xesmf cartopy cftime cartopy\n",
    "\n",
    "    ## connect to Google Drive (will prompt you to ask for permissions)\n",
    "    from google.colab import drive\n",
    "\n",
    "    drive.mount(\"/content/drive\")\n",
    "\n",
    "    ## flag telling us the notebook is running in Colab\n",
    "    IN_COLAB = True\n",
    "\n",
    "except:\n",
    "    IN_COLAB = False"
   ]
  },
  {
   "cell_type": "markdown",
   "id": "b6811316-50a2-4826-9e74-85b8e5fd9c56",
   "metadata": {},
   "source": [
    "## Filepaths\n",
    "__To run this notebook, you'll need to update the filepaths below__, which specify the location of the data (otherwise, you'll get a ```FileNotFoundError``` message when you try to open the data). These filepaths will differ for Mac vs. Windows users and depend on how you've accessed the data (e.g., mounting the WHOI file server or downloading the data)."
   ]
  },
  {
   "cell_type": "code",
   "execution_count": null,
   "id": "a8da4789-2d3a-41d4-ae5f-67fca703c5d7",
   "metadata": {},
   "outputs": [],
   "source": [
    "if IN_COLAB:\n",
    "\n",
    "    ## filepaths for historical/PI-control data\n",
    "    hist_path = \"/content/drive/My Drive/climate-data\"\n",
    "    pico_path = \"/content/drive/My Drive/climate-data/tas_Amon_CESM2_piControl\"\n",
    "\n",
    "else:\n",
    "\n",
    "    hist_path = (\n",
    "        \"/Volumes/cmip6/data/cmip6/CMIP/NCAR/CESM2/historical/r1i1p1f1/Amon/tas/gn/1\"\n",
    "    )\n",
    "\n",
    "    pico_path = (\n",
    "        \"/Volumes/cmip6/data/cmip6/CMIP/NCAR/CESM2/piControl/r1i1p1f1/Amon/tas/gn/1\"\n",
    "    )"
   ]
  },
  {
   "cell_type": "markdown",
   "id": "fd07d469-be2a-4a12-865f-556cad367901",
   "metadata": {},
   "source": [
    "## Imports"
   ]
  },
  {
   "cell_type": "code",
   "execution_count": null,
   "id": "42de5f8d-b9a3-4a26-a062-b2b1127e0d53",
   "metadata": {},
   "outputs": [],
   "source": [
    "import xarray as xr\n",
    "import numpy as np\n",
    "import os\n",
    "import time\n",
    "import tqdm\n",
    "import glob\n",
    "import matplotlib.pyplot as plt\n",
    "import seaborn as sns\n",
    "import pandas as pd\n",
    "\n",
    "## set default plot style\n",
    "sns.set(rc={\"axes.facecolor\": \"white\", \"axes.grid\": False})\n",
    "\n",
    "## initialize random number generator\n",
    "rng = np.random.default_rng()"
   ]
  },
  {
   "cell_type": "markdown",
   "id": "12c90f62-10f1-4a2a-a5dd-6c808fb52873",
   "metadata": {},
   "source": [
    "## Open the data"
   ]
  },
  {
   "cell_type": "code",
   "execution_count": null,
   "id": "3210192e-b659-46ba-91de-561dd60d33e3",
   "metadata": {},
   "outputs": [],
   "source": [
    "def trim(data):\n",
    "    \"\"\"Trim data in lon/lat space\"\"\"\n",
    "    return data.sel(lon=slice(285, 293), lat=slice(39, 44))"
   ]
  },
  {
   "cell_type": "markdown",
   "id": "d7ce9b4a-62e8-48e6-9cf0-76b5febb1f37",
   "metadata": {},
   "source": [
    "Note: we're going to set ```mask_and_scale=False``` to avoid serialization warning."
   ]
  },
  {
   "cell_type": "markdown",
   "id": "bbb2c664-0cf5-4344-970b-764aa92749e5",
   "metadata": {},
   "source": [
    "#### Load Hist"
   ]
  },
  {
   "cell_type": "code",
   "execution_count": null,
   "id": "cbc0cb78-97c3-4c7d-add5-3341ff91c2fa",
   "metadata": {},
   "outputs": [],
   "source": [
    "hist_filename = \"tas_Amon_CESM2_historical_r1i1p1f1_gn_185001-201412.nc\"\n",
    "hist_full_path = os.path.join(hist_path, hist_filename)\n",
    "T2m_hist = xr.open_dataset(hist_full_path, mask_and_scale=False)[\"tas\"]\n",
    "\n",
    "T2m_hist = trim(T2m_hist).compute()"
   ]
  },
  {
   "cell_type": "markdown",
   "id": "8471f882-b820-412a-abc4-9b7607e1f667",
   "metadata": {},
   "source": [
    "#### Load PICO"
   ]
  },
  {
   "cell_type": "code",
   "execution_count": null,
   "id": "d8238366-218d-45cc-9548-ab7fab4b8679",
   "metadata": {},
   "outputs": [],
   "source": [
    "T2m_pico_files = glob.glob(os.path.join(pico_path, \"*.nc\"))"
   ]
  },
  {
   "cell_type": "code",
   "execution_count": null,
   "id": "f5721edc-6583-4759-b1f4-ef506d276f78",
   "metadata": {},
   "outputs": [],
   "source": [
    "## open dataset\n",
    "T2m_pico = xr.open_mfdataset(\n",
    "    T2m_pico_files,\n",
    "    preprocess=trim,\n",
    "    mask_and_scale=False,\n",
    ")[\"tas\"]\n",
    "\n",
    "## Load into memory\n",
    "start = time.time()\n",
    "T2m_pico.load()\n",
    "end = time.time()\n",
    "\n",
    "print(end - start)"
   ]
  },
  {
   "cell_type": "markdown",
   "id": "b77a23bd-c96d-4f36-bde8-7a0f16b7aa67",
   "metadata": {},
   "source": [
    "## define \"climate index\" function"
   ]
  },
  {
   "cell_type": "markdown",
   "id": "3aef7a3a-7d78-4ed6-8ddf-fb56b40f0e20",
   "metadata": {},
   "source": [
    "First, a function to compute the index"
   ]
  },
  {
   "cell_type": "code",
   "execution_count": null,
   "id": "def82d6b-939c-4369-b765-f4e2176186c5",
   "metadata": {},
   "outputs": [],
   "source": [
    "def WH_index(T2m):\n",
    "    \"\"\"function to compute 'Woods Hole climate index'\"\"\"\n",
    "\n",
    "    ## first, interpolate close to Woods Hole\n",
    "    T2m_WH = T2m.interp(lat=41.5, lon=288.5, method=\"nearest\")\n",
    "\n",
    "    ## Get annual average\n",
    "    T2m_WH = T2m_WH.groupby(\"time.year\").mean()\n",
    "\n",
    "    return T2m_WH"
   ]
  },
  {
   "cell_type": "code",
   "execution_count": null,
   "id": "03ae9d58-d39b-4a7e-af6f-3c2adc855cbd",
   "metadata": {},
   "outputs": [],
   "source": [
    "T2m_WH_hist = WH_index(T2m_hist).compute()\n",
    "T2m_WH_pico = WH_index(T2m_pico).compute()"
   ]
  },
  {
   "cell_type": "code",
   "execution_count": null,
   "id": "65465700-7f5f-4fe0-aa86-ba53a215d490",
   "metadata": {},
   "outputs": [],
   "source": [
    "plt.plot(T2m_WH_pico.year + 650, T2m_WH_pico)\n",
    "plt.plot(T2m_WH_hist.year, T2m_WH_hist)"
   ]
  },
  {
   "cell_type": "markdown",
   "id": "a9070b5f-13a8-43b1-b688-0fbf4e2c2cde",
   "metadata": {},
   "source": [
    "#### Generate histogram from data"
   ]
  },
  {
   "cell_type": "code",
   "execution_count": null,
   "id": "017e6dcb-3d46-4462-a543-9edf66fe225a",
   "metadata": {},
   "outputs": [],
   "source": [
    "def get_random_sample_mean(data, nyears):\n",
    "    \"\"\"function draws a random sample from given dataset,\n",
    "    and averages over period\"\"\"\n",
    "\n",
    "    ## get random start year for random sample\n",
    "    max_idx = len(data.year) - nyears\n",
    "    idx_start = rng.choice(np.arange(0, max_idx))\n",
    "\n",
    "    ## get random sample\n",
    "    sample = data.isel(year=slice(idx_start, idx_start + nyears))\n",
    "\n",
    "    ## get sample mean\n",
    "    sample_mean = sample.mean(\"year\")\n",
    "\n",
    "    return sample_mean\n",
    "\n",
    "\n",
    "def get_random_sample_means(data, nsamples, nyears=30):\n",
    "    \"\"\"get multiple random samples\"\"\"\n",
    "\n",
    "    ## get random sample means\n",
    "    sample_means = [\n",
    "        get_random_sample_mean(data, nyears) for _ in tqdm.tqdm(np.arange(nsamples))\n",
    "    ]\n",
    "\n",
    "    ## Put in xr.DataArray.\n",
    "    sample_dim = pd.Index(np.arange(nsamples), name=\"sample\")\n",
    "    sample_means = xr.concat(sample_means, dim=sample_dim)\n",
    "    return sample_means\n",
    "\n",
    "\n",
    "## get random samples\n",
    "sample_means = get_random_sample_means(data=T2m_WH_pico, nsamples=3000, nyears=30)"
   ]
  },
  {
   "cell_type": "markdown",
   "id": "33a8356a-4a08-4cbd-a60b-8162875cc190",
   "metadata": {},
   "source": [
    "#### Make histogram"
   ]
  },
  {
   "cell_type": "code",
   "execution_count": null,
   "id": "ea994739-3ed3-41f9-9ae7-13872e62df3b",
   "metadata": {},
   "outputs": [],
   "source": [
    "bin_width = 0.1\n",
    "bin_edges = np.arange(284.5, 286, bin_width)\n",
    "histogram_pico, _ = np.histogram(sample_means, bins=bin_edges)"
   ]
  },
  {
   "cell_type": "code",
   "execution_count": null,
   "id": "d590898b-4fb9-4701-9b72-b25ef8bdbaa3",
   "metadata": {},
   "outputs": [],
   "source": [
    "## blank canvas for plotting\n",
    "fig, ax = plt.subplots(figsize=(4, 3))\n",
    "\n",
    "## plot the histogram\n",
    "ax.stairs(values=histogram_pico, edges=bin_edges, color=\"k\", label=\"PI-control\")\n",
    "\n",
    "## plot mean value\n",
    "ax.axvline(sample_means.mean(), c=\"k\", ls=\"--\")\n",
    "\n",
    "## plot mean over last ~30 years\n",
    "ax.axvline(\n",
    "    T2m_WH_hist.isel(year=slice(-30, None)).mean(\"year\"),\n",
    "    c=\"r\",\n",
    "    ls=\"--\",\n",
    "    label=r\"1984-2014\",\n",
    ")\n",
    "\n",
    "## label the plot\n",
    "ax.set_ylabel(\"# samples\")\n",
    "ax.set_xlabel(r\"$K$\")\n",
    "ax.set_title(r\"30-year average $T_{2m}$ in Woods Hole\")\n",
    "ax.legend()\n",
    "\n",
    "plt.show()"
   ]
  }
 ],
 "metadata": {
  "kernelspec": {
   "display_name": "Python 3 (ipykernel)",
   "language": "python",
   "name": "python3"
  },
  "language_info": {
   "codemirror_mode": {
    "name": "ipython",
    "version": 3
   },
   "file_extension": ".py",
   "mimetype": "text/x-python",
   "name": "python",
   "nbconvert_exporter": "python",
   "pygments_lexer": "ipython3",
   "version": "3.12.3"
  }
 },
 "nbformat": 4,
 "nbformat_minor": 5
}
